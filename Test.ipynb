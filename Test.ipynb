{
 "cells": [
  {
   "cell_type": "code",
   "execution_count": 1,
   "metadata": {},
   "outputs": [],
   "source": [
    "%matplotlib inline\n",
    "\n",
    "import xarray as xr\n",
    "import matplotlib.pyplot as plt\n",
    "import numpy as np \n",
    "import pandas as pd\n",
    "\n",
    "import cartopy\n",
    "import cartopy.crs as ccrs\n",
    "import cartopy.feature as cfeature"
   ]
  },
  {
   "cell_type": "code",
   "execution_count": 2,
   "metadata": {},
   "outputs": [],
   "source": [
    "ixy = xr.DataArray([1,1,1,2,2,2,3,3,3,4,4,4], dims='pft')\n",
    "lon = xr.DataArray([0,0,0,110,110,110,212,212,212,358,358,358], dims='pft')\n",
    "jxy = xr.DataArray([1,1,1,1,2,2,2,2,3,3,3,3], dims='pft')\n",
    "lat = xr.DataArray([-90,-90,-90,-90,10,10,10,10,84,84,84,84], dims='pft')\n",
    "active = xr.DataArray([1,1,0,1,0,0,0,0,1,0,1,1], dims='pft')\n",
    "wtlunit = xr.DataArray([0,0.1,0,0,0.2,0.3,1,0,0,0.1,0.2,0], dims='pft')\n",
    "itype_lunit = xr.DataArray([1,1,2,7,4,5,6,7,8,9,2,4], dims='pft')\n",
    "tsa = xr.DataArray([3,7,9,0,12,4,5,6,8,1,2,90], dims='pft')"
   ]
  },
  {
   "cell_type": "code",
   "execution_count": 9,
   "metadata": {},
   "outputs": [
    {
     "data": {
      "text/plain": [
       "<xarray.DataArray (pft: 12)>\n",
       "array([1, 1, 1, 2, 2, 2, 3, 3, 3, 4, 4, 4])\n",
       "Dimensions without coordinates: pft"
      ]
     },
     "execution_count": 9,
     "metadata": {},
     "output_type": "execute_result"
    }
   ],
   "source": [
    "# to turn into numpy arrays\n",
    "#lon = lon.values\n",
    "#ixy = ixy.values"
   ]
  },
  {
   "cell_type": "code",
   "execution_count": 10,
   "metadata": {},
   "outputs": [
    {
     "data": {
      "text/plain": [
       "<xarray.DataArray (pft: 3)>\n",
       "array([110, 110, 110])\n",
       "Dimensions without coordinates: pft"
      ]
     },
     "execution_count": 10,
     "metadata": {},
     "output_type": "execute_result"
    }
   ],
   "source": [
    "# pull out values (prolly don't use this one cause it doesn't retain the shape and size of the array )\n",
    "lon[ixy==2]"
   ]
  },
  {
   "cell_type": "code",
   "execution_count": 11,
   "metadata": {},
   "outputs": [
    {
     "data": {
      "text/plain": [
       "<xarray.DataArray (pft: 12)>\n",
       "array([ nan,  nan,  nan, 110., 110., 110.,  nan,  nan,  nan,  nan,  nan,  nan])\n",
       "Dimensions without coordinates: pft"
      ]
     },
     "execution_count": 11,
     "metadata": {},
     "output_type": "execute_result"
    }
   ],
   "source": [
    "# mask values (preferred for now)\n",
    "lon.where(ixy==2)"
   ]
  },
  {
   "cell_type": "code",
   "execution_count": 7,
   "metadata": {},
   "outputs": [
    {
     "name": "stdout",
     "output_type": "stream",
     "text": [
      "1 1\n",
      "[ 0.  0.  0. nan nan nan nan nan nan nan nan nan]\n",
      "1 2\n",
      "[nan nan nan nan nan nan nan nan nan nan nan nan]\n",
      "1 3\n",
      "[nan nan nan nan nan nan nan nan nan nan nan nan]\n",
      "2 1\n",
      "[ nan  nan  nan 110.  nan  nan  nan  nan  nan  nan  nan  nan]\n",
      "2 2\n",
      "[ nan  nan  nan  nan 110. 110.  nan  nan  nan  nan  nan  nan]\n",
      "2 3\n",
      "[nan nan nan nan nan nan nan nan nan nan nan nan]\n",
      "3 1\n",
      "[nan nan nan nan nan nan nan nan nan nan nan nan]\n",
      "3 2\n",
      "[ nan  nan  nan  nan  nan  nan 212. 212.  nan  nan  nan  nan]\n",
      "3 3\n",
      "[ nan  nan  nan  nan  nan  nan  nan  nan 212.  nan  nan  nan]\n",
      "4 1\n",
      "[nan nan nan nan nan nan nan nan nan nan nan nan]\n",
      "4 2\n",
      "[nan nan nan nan nan nan nan nan nan nan nan nan]\n",
      "4 3\n",
      "[ nan  nan  nan  nan  nan  nan  nan  nan  nan 358. 358. 358.]\n",
      "Max number of unique values per unique lat/lon pair = 3\n"
     ]
    }
   ],
   "source": [
    "# count unique values per lat/lon pair \n",
    "max_length = 0\n",
    "for i in range(1,5):\n",
    "    for j in range(1,4):\n",
    "        print(i,j)\n",
    "        print(lon.where(ixy==i).where(jxy==j).values)\n",
    "        new_length = tsa.where(ixy==i).where(jxy==j).dropna(dim='pft').values.size\n",
    "        if new_length > max_length:\n",
    "            max_length = new_length\n",
    "\n",
    "print('Max number of unique values per unique lat/lon pair =',max_length)"
   ]
  },
  {
   "cell_type": "code",
   "execution_count": 8,
   "metadata": {},
   "outputs": [
    {
     "name": "stdout",
     "output_type": "stream",
     "text": [
      "1 1\n",
      "[ 3.  7. nan nan nan nan nan nan nan nan nan nan]\n",
      "1 2\n",
      "[nan nan nan nan nan nan nan nan nan nan nan nan]\n",
      "1 3\n",
      "[nan nan nan nan nan nan nan nan nan nan nan nan]\n",
      "2 1\n",
      "[nan nan nan nan nan nan nan nan nan nan nan nan]\n",
      "2 2\n",
      "[nan nan nan nan nan nan nan nan nan nan nan nan]\n",
      "2 3\n",
      "[nan nan nan nan nan nan nan nan nan nan nan nan]\n",
      "3 1\n",
      "[nan nan nan nan nan nan nan nan nan nan nan nan]\n",
      "3 2\n",
      "[nan nan nan nan nan nan nan nan nan nan nan nan]\n",
      "3 3\n",
      "[nan nan nan nan nan nan nan nan nan nan nan nan]\n",
      "4 1\n",
      "[nan nan nan nan nan nan nan nan nan nan nan nan]\n",
      "4 2\n",
      "[nan nan nan nan nan nan nan nan nan nan nan nan]\n",
      "4 3\n",
      "[nan nan nan nan nan nan nan nan nan nan nan nan]\n",
      "Max unique values per lat/lon pair = 2\n"
     ]
    }
   ],
   "source": [
    "# find max pft for each unique lat/lon/lunit combo\n",
    "max_length = 0\n",
    "tsa = tsa.where(itype_lunit==1) # only look at longitude values where the lunit type is 1 aka veg\n",
    "# ^ this is the first prerequisite \n",
    "\n",
    "# now loop through each latitude/longitude combo \n",
    "for i in range(1,5):\n",
    "    for j in range(1,4):\n",
    "        print(i,j)\n",
    "        print(tsa.where(ixy==i).where(jxy==j).values)\n",
    "        new_length = tsa.where(ixy==i).where(jxy==j).dropna(dim='pft').values.size\n",
    "        if new_length > max_length:\n",
    "            max_length = new_length\n",
    "\n",
    "print('Max unique values per lat/lon pair =', max_length)"
   ]
  },
  {
   "cell_type": "code",
   "execution_count": null,
   "metadata": {},
   "outputs": [],
   "source": [
    "# Game Plan \n",
    "# Go through and create list of tsa values for each unique lat/lon pair for the land unit of interest \n",
    "# Then initialize a cube with dimensions of lat x lon x max pft (for that land unit?)\n",
    "# Loop through the tsa list and fill in each value one by one into the previously created cube "
   ]
  },
  {
   "cell_type": "code",
   "execution_count": 3,
   "metadata": {},
   "outputs": [],
   "source": [
    "cube1 = np.full((4,3,3), float(\"NaN\"))"
   ]
  },
  {
   "cell_type": "code",
   "execution_count": 4,
   "metadata": {},
   "outputs": [
    {
     "name": "stdout",
     "output_type": "stream",
     "text": [
      "1 1\n",
      "1 2\n",
      "1 3\n",
      "2 1\n",
      "2 2\n",
      "2 3\n",
      "3 1\n",
      "3 2\n",
      "3 3\n",
      "4 1\n",
      "4 2\n",
      "4 3\n"
     ]
    }
   ],
   "source": [
    "for i in range(1,5):\n",
    "    for j in range(1,4):\n",
    "        print(i,j)"
   ]
  },
  {
   "cell_type": "code",
   "execution_count": 5,
   "metadata": {},
   "outputs": [
    {
     "data": {
      "text/plain": [
       "<xarray.DataArray (pft: 12)>\n",
       "array([1, 1, 1, 1, 2, 2, 2, 2, 3, 3, 3, 3])\n",
       "Dimensions without coordinates: pft"
      ]
     },
     "execution_count": 5,
     "metadata": {},
     "output_type": "execute_result"
    }
   ],
   "source": [
    "jxy"
   ]
  },
  {
   "cell_type": "code",
   "execution_count": 12,
   "metadata": {},
   "outputs": [
    {
     "name": "stdout",
     "output_type": "stream",
     "text": [
      "lat/lon indices: 1 , 1\n",
      "tsa values at lat/lon index [3. 7. 9.]\n",
      "number of tsa values at that lat/lon: 3\n",
      "cube dims: i,j,k = 1 1 0\n",
      "cube dims: i,j,k = 1 1 1\n",
      "cube dims: i,j,k = 1 1 2\n",
      "lat/lon indices: 1 , 2\n",
      "tsa values at lat/lon index []\n",
      "number of tsa values at that lat/lon: 0\n",
      "lat/lon indices: 1 , 3\n",
      "tsa values at lat/lon index []\n",
      "number of tsa values at that lat/lon: 0\n",
      "lat/lon indices: 2 , 1\n",
      "tsa values at lat/lon index [0.]\n",
      "number of tsa values at that lat/lon: 1\n",
      "cube dims: i,j,k = 2 1 0\n",
      "lat/lon indices: 2 , 2\n",
      "tsa values at lat/lon index [12.  4.]\n",
      "number of tsa values at that lat/lon: 2\n",
      "cube dims: i,j,k = 2 2 0\n",
      "cube dims: i,j,k = 2 2 1\n",
      "lat/lon indices: 2 , 3\n",
      "tsa values at lat/lon index []\n",
      "number of tsa values at that lat/lon: 0\n",
      "lat/lon indices: 3 , 1\n",
      "tsa values at lat/lon index []\n",
      "number of tsa values at that lat/lon: 0\n",
      "lat/lon indices: 3 , 2\n",
      "tsa values at lat/lon index [5. 6.]\n",
      "number of tsa values at that lat/lon: 2\n",
      "cube dims: i,j,k = 3 2 0\n",
      "cube dims: i,j,k = 3 2 1\n",
      "lat/lon indices: 3 , 3\n",
      "tsa values at lat/lon index [8.]\n",
      "number of tsa values at that lat/lon: 1\n",
      "cube dims: i,j,k = 3 3 0\n",
      "lat/lon indices: 4 , 1\n",
      "tsa values at lat/lon index []\n",
      "number of tsa values at that lat/lon: 0\n",
      "lat/lon indices: 4 , 2\n",
      "tsa values at lat/lon index []\n",
      "number of tsa values at that lat/lon: 0\n",
      "lat/lon indices: 4 , 3\n",
      "tsa values at lat/lon index [ 1.  2. 90.]\n",
      "number of tsa values at that lat/lon: 3\n",
      "cube dims: i,j,k = 4 3 0\n",
      "cube dims: i,j,k = 4 3 1\n",
      "cube dims: i,j,k = 4 3 2\n"
     ]
    }
   ],
   "source": [
    "# DOUBLE CHECK OUTPUT \n",
    "# first mask for only the desired land unit type \n",
    "tsa = xr.DataArray([3,7,9,0,12,4,5,6,8,1,2,90], dims='pft')\n",
    "for i in range(1,5):\n",
    "    for j in range(1,4):\n",
    "        print('lat/lon indices:',i, ',', j) #\n",
    "        v = tsa.where(ixy==i).where(jxy==j).dropna(dim='pft').values\n",
    "        print('tsa values at lat/lon index', v) #\n",
    "        print('number of tsa values at that lat/lon:', len(v)) #\n",
    "        for k in range(len(v)):\n",
    "            print('cube dims: i,j,k =',i,j,k) # \n",
    "            cube1[i-1,j-1,k] = v[k]"
   ]
  },
  {
   "cell_type": "code",
   "execution_count": 13,
   "metadata": {},
   "outputs": [
    {
     "data": {
      "text/plain": [
       "array([[[ 3.,  7.,  9.],\n",
       "        [ 0., 12., nan],\n",
       "        [nan,  5.,  8.]],\n",
       "\n",
       "       [[ 0., nan, nan],\n",
       "        [12.,  4., nan],\n",
       "        [ 5.,  6., nan]],\n",
       "\n",
       "       [[ 9., nan, nan],\n",
       "        [ 5.,  6., nan],\n",
       "        [ 8., nan, nan]],\n",
       "\n",
       "       [[nan, nan, nan],\n",
       "        [nan, nan, nan],\n",
       "        [ 1.,  2., 90.]]])"
      ]
     },
     "execution_count": 13,
     "metadata": {},
     "output_type": "execute_result"
    }
   ],
   "source": [
    "cube1"
   ]
  },
  {
   "cell_type": "code",
   "execution_count": 17,
   "metadata": {},
   "outputs": [
    {
     "data": {
      "text/plain": [
       "1.0"
      ]
     },
     "execution_count": 17,
     "metadata": {},
     "output_type": "execute_result"
    }
   ],
   "source": [
    "cube1[3,2,0]"
   ]
  },
  {
   "cell_type": "code",
   "execution_count": 43,
   "metadata": {},
   "outputs": [],
   "source": []
  },
  {
   "cell_type": "code",
   "execution_count": 44,
   "metadata": {},
   "outputs": [
    {
     "data": {
      "text/plain": [
       "array([[[ 0.,  0., nan],\n",
       "        [nan, nan, nan],\n",
       "        [nan, nan, nan]],\n",
       "\n",
       "       [[nan, nan, nan],\n",
       "        [nan, nan, nan],\n",
       "        [nan, nan, nan]],\n",
       "\n",
       "       [[nan, nan, nan],\n",
       "        [nan, nan, nan],\n",
       "        [nan, nan, nan]],\n",
       "\n",
       "       [[nan, nan, nan],\n",
       "        [nan, nan, nan],\n",
       "        [nan, nan, nan]]])"
      ]
     },
     "execution_count": 44,
     "metadata": {},
     "output_type": "execute_result"
    }
   ],
   "source": [
    "cube1"
   ]
  },
  {
   "cell_type": "code",
   "execution_count": 48,
   "metadata": {},
   "outputs": [],
   "source": [
    "cube2 = np.full((4,3,3), float(\"NaN\"))\n",
    "list = []\n",
    "v = tsa.where(ixy==1).where(active==1).dropna(dim='pft').values\n",
    "for i in range(len(v)):\n",
    "    cube2[0,0,i] = v[i]"
   ]
  },
  {
   "cell_type": "code",
   "execution_count": 49,
   "metadata": {},
   "outputs": [
    {
     "data": {
      "text/plain": [
       "array([[[ 3.,  7., nan],\n",
       "        [nan, nan, nan],\n",
       "        [nan, nan, nan]],\n",
       "\n",
       "       [[nan, nan, nan],\n",
       "        [nan, nan, nan],\n",
       "        [nan, nan, nan]],\n",
       "\n",
       "       [[nan, nan, nan],\n",
       "        [nan, nan, nan],\n",
       "        [nan, nan, nan]],\n",
       "\n",
       "       [[nan, nan, nan],\n",
       "        [nan, nan, nan],\n",
       "        [nan, nan, nan]]])"
      ]
     },
     "execution_count": 49,
     "metadata": {},
     "output_type": "execute_result"
    }
   ],
   "source": [
    "cube2"
   ]
  },
  {
   "cell_type": "markdown",
   "metadata": {},
   "source": [
    "Old Code"
   ]
  },
  {
   "cell_type": "code",
   "execution_count": 61,
   "metadata": {},
   "outputs": [],
   "source": [
    "# Set up empty data cubes \n",
    "#cube = np.empty((4,3))\n",
    "cube = []\n",
    "for i in range(60):\n",
    "    "
   ]
  },
  {
   "cell_type": "code",
   "execution_count": 62,
   "metadata": {},
   "outputs": [
    {
     "data": {
      "text/plain": [
       "(4, 3)"
      ]
     },
     "execution_count": 62,
     "metadata": {},
     "output_type": "execute_result"
    }
   ],
   "source": [
    "cube.shape"
   ]
  },
  {
   "cell_type": "code",
   "execution_count": 63,
   "metadata": {},
   "outputs": [
    {
     "data": {
      "text/plain": [
       "(10, 3, 3)"
      ]
     },
     "execution_count": 63,
     "metadata": {},
     "output_type": "execute_result"
    }
   ],
   "source": [
    "arr = []\n",
    "for i in range(10):\n",
    "    a = np.random.rand(3,3)\n",
    "    arr.append(a)\n",
    "\n",
    "np.array(arr).shape\n",
    "# (10, 3, 3)"
   ]
  },
  {
   "cell_type": "code",
   "execution_count": 9,
   "metadata": {},
   "outputs": [
    {
     "data": {
      "text/plain": [
       "4"
      ]
     },
     "execution_count": 9,
     "metadata": {},
     "output_type": "execute_result"
    }
   ],
   "source": [
    "cube.shape[0]"
   ]
  },
  {
   "cell_type": "code",
   "execution_count": 5,
   "metadata": {},
   "outputs": [
    {
     "data": {
      "text/plain": [
       "[0.0, 0.0, 0.1, 0.0]"
      ]
     },
     "execution_count": 5,
     "metadata": {},
     "output_type": "execute_result"
    }
   ],
   "source": [
    "i,j = 1,1\n",
    "list = [1]\n",
    "for r in range(len(ixy)):\n",
    "    if ixy[r] == i:\n",
    "        list[0] = float(wtlunit[r].values)\n",
    "        list.append(float(wtlunit[r].values))\n",
    "list"
   ]
  },
  {
   "cell_type": "code",
   "execution_count": 33,
   "metadata": {},
   "outputs": [
    {
     "data": {
      "text/plain": [
       "numpy.ndarray"
      ]
     },
     "execution_count": 33,
     "metadata": {},
     "output_type": "execute_result"
    }
   ],
   "source": [
    "type(list[1])"
   ]
  },
  {
   "cell_type": "code",
   "execution_count": 15,
   "metadata": {},
   "outputs": [],
   "source": [
    "for i in range(cube.shape[0]):\n",
    "    for j in range(cube.shape[1]):\n",
    "        cube[i,j] = i+j"
   ]
  },
  {
   "cell_type": "code",
   "execution_count": 16,
   "metadata": {},
   "outputs": [
    {
     "data": {
      "text/plain": [
       "array([[0., 1., 2.],\n",
       "       [1., 2., 3.],\n",
       "       [2., 3., 4.],\n",
       "       [3., 4., 5.]])"
      ]
     },
     "execution_count": 16,
     "metadata": {},
     "output_type": "execute_result"
    }
   ],
   "source": [
    "cube"
   ]
  },
  {
   "cell_type": "code",
   "execution_count": 39,
   "metadata": {},
   "outputs": [
    {
     "data": {
      "text/plain": [
       "2.0"
      ]
     },
     "execution_count": 39,
     "metadata": {},
     "output_type": "execute_result"
    }
   ],
   "source": [
    "cube[0,2]"
   ]
  },
  {
   "cell_type": "code",
   "execution_count": null,
   "metadata": {},
   "outputs": [],
   "source": []
  }
 ],
 "metadata": {
  "kernelspec": {
   "display_name": "Python 3",
   "language": "python",
   "name": "python3"
  },
  "language_info": {
   "codemirror_mode": {
    "name": "ipython",
    "version": 3
   },
   "file_extension": ".py",
   "mimetype": "text/x-python",
   "name": "python",
   "nbconvert_exporter": "python",
   "pygments_lexer": "ipython3",
   "version": "3.6.8"
  }
 },
 "nbformat": 4,
 "nbformat_minor": 4
}
