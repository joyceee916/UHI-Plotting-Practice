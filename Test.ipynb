{
 "cells": [
  {
   "cell_type": "code",
   "execution_count": 2,
   "metadata": {},
   "outputs": [
    {
     "name": "stdout",
     "output_type": "stream",
     "text": [
      "/glade/work/joyceyang\n"
     ]
    }
   ],
   "source": [
    "cd /glade/work/joyceyang"
   ]
  },
  {
   "cell_type": "code",
   "execution_count": 3,
   "metadata": {},
   "outputs": [],
   "source": [
    "# Imports \n",
    "%matplotlib inline\n",
    "import os, glob\n",
    "import xarray as xr\n",
    "import numpy as np \n",
    "import matplotlib.pyplot as plt\n",
    "import pandas as pd  \n",
    "import cartopy\n",
    "import cartopy.crs as ccrs\n",
    "import cartopy.feature as cfeature\n",
    "import datetime \n",
    "from datetime import date, datetime, timedelta\n",
    "\n",
    "lat_grid = np.load('lat_grid.npy')\n",
    "lon_grid = np.load('lon_grid.npy')"
   ]
  },
  {
   "cell_type": "code",
   "execution_count": 30,
   "metadata": {},
   "outputs": [
    {
     "data": {
      "text/plain": [
       "array([3., 0., 0., 0.])"
      ]
     },
     "execution_count": 30,
     "metadata": {},
     "output_type": "execute_result"
    }
   ],
   "source": [
    "def nansumwrapper(a, **kwargs):\n",
    "    if np.isnan(a).all():\n",
    "        return np.nan\n",
    "    else:\n",
    "        return np.nansum(a, **kwargs)\n",
    "\n",
    "c = np.arange(12, dtype=np.float_).reshape(4,3)\n",
    "c[1:4, 0:3] = np.nan\n",
    "\n",
    "nansumwrapper(c, axis=1)"
   ]
  },
  {
   "cell_type": "code",
   "execution_count": 29,
   "metadata": {},
   "outputs": [
    {
     "data": {
      "text/plain": [
       "array([[ 0.,  1.,  2.],\n",
       "       [nan, nan, nan],\n",
       "       [nan, nan, nan],\n",
       "       [nan, nan, nan]])"
      ]
     },
     "execution_count": 29,
     "metadata": {},
     "output_type": "execute_result"
    }
   ],
   "source": [
    "c"
   ]
  },
  {
   "cell_type": "code",
   "execution_count": 31,
   "metadata": {},
   "outputs": [
    {
     "data": {
      "text/plain": [
       "nan"
      ]
     },
     "execution_count": 31,
     "metadata": {},
     "output_type": "execute_result"
    }
   ],
   "source": [
    "a = np.array([np.nan, np.nan])\n",
    "nansumwrapper(a, axis=0)"
   ]
  },
  {
   "cell_type": "code",
   "execution_count": 2,
   "metadata": {},
   "outputs": [],
   "source": [
    "ixy = xr.DataArray([1,1,1,2,2,2,3,3,3,4,4,4], dims='pft')\n",
    "lon = xr.DataArray([0,0,0,110,110,110,212,212,212,358,358,358], dims='pft')\n",
    "jxy = xr.DataArray([1,1,1,1,2,2,2,2,3,3,3,3], dims='pft')\n",
    "lat = xr.DataArray([-90,-90,-90,-90,10,10,10,10,84,84,84,84], dims='pft')\n",
    "active = xr.DataArray([1,1,0,1,0,0,0,0,1,0,1,1], dims='pft')\n",
    "wtlunit = xr.DataArray([0,0.1,0,0,0.2,0.3,1,0,0,0.1,0.2,0], dims='pft')\n",
    "itype_lunit = xr.DataArray([1,1,2,7,4,5,6,7,8,9,2,4], dims='pft')\n",
    "tsa = xr.DataArray([3,7,9,0,12,4,5,6,8,1,2,90], dims='pft')"
   ]
  },
  {
   "cell_type": "code",
   "execution_count": 10,
   "metadata": {},
   "outputs": [
    {
     "data": {
      "text/plain": [
       "<bound method ImplementsArrayReduce._reduce_method.<locals>.wrapped_func of <xarray.DataArray (pft: 12)>\n",
       "array([ 3,  7,  9,  0, 12,  4,  5,  6,  8,  1,  2, 90])\n",
       "Dimensions without coordinates: pft>"
      ]
     },
     "execution_count": 10,
     "metadata": {},
     "output_type": "execute_result"
    }
   ],
   "source": [
    "tsa.value.max()"
   ]
  },
  {
   "cell_type": "code",
   "execution_count": 9,
   "metadata": {},
   "outputs": [
    {
     "data": {
      "text/plain": [
       "<xarray.DataArray (pft: 12)>\n",
       "array([1, 1, 1, 2, 2, 2, 3, 3, 3, 4, 4, 4])\n",
       "Dimensions without coordinates: pft"
      ]
     },
     "execution_count": 9,
     "metadata": {},
     "output_type": "execute_result"
    }
   ],
   "source": [
    "# to turn into numpy arrays\n",
    "#lon = lon.values\n",
    "#ixy = ixy.values"
   ]
  },
  {
   "cell_type": "code",
   "execution_count": 10,
   "metadata": {},
   "outputs": [
    {
     "data": {
      "text/plain": [
       "1"
      ]
     },
     "execution_count": 10,
     "metadata": {},
     "output_type": "execute_result"
    }
   ],
   "source": [
    "# pull out values (prolly don't use this one cause it doesn't retain the shape and size of the array )\n",
    "lon[(ixy==2)&(jxy==1)].size"
   ]
  },
  {
   "cell_type": "code",
   "execution_count": 11,
   "metadata": {},
   "outputs": [
    {
     "data": {
      "text/plain": [
       "<xarray.DataArray (pft: 12)>\n",
       "array([ nan,  nan,  nan, 110., 110., 110.,  nan,  nan,  nan,  nan,  nan,  nan])\n",
       "Dimensions without coordinates: pft"
      ]
     },
     "execution_count": 11,
     "metadata": {},
     "output_type": "execute_result"
    }
   ],
   "source": [
    "# mask values (preferred for now)\n",
    "lon.where(ixy==2)"
   ]
  },
  {
   "cell_type": "code",
   "execution_count": 7,
   "metadata": {},
   "outputs": [
    {
     "name": "stdout",
     "output_type": "stream",
     "text": [
      "1 1\n",
      "[ 0.  0.  0. nan nan nan nan nan nan nan nan nan]\n",
      "1 2\n",
      "[nan nan nan nan nan nan nan nan nan nan nan nan]\n",
      "1 3\n",
      "[nan nan nan nan nan nan nan nan nan nan nan nan]\n",
      "2 1\n",
      "[ nan  nan  nan 110.  nan  nan  nan  nan  nan  nan  nan  nan]\n",
      "2 2\n",
      "[ nan  nan  nan  nan 110. 110.  nan  nan  nan  nan  nan  nan]\n",
      "2 3\n",
      "[nan nan nan nan nan nan nan nan nan nan nan nan]\n",
      "3 1\n",
      "[nan nan nan nan nan nan nan nan nan nan nan nan]\n",
      "3 2\n",
      "[ nan  nan  nan  nan  nan  nan 212. 212.  nan  nan  nan  nan]\n",
      "3 3\n",
      "[ nan  nan  nan  nan  nan  nan  nan  nan 212.  nan  nan  nan]\n",
      "4 1\n",
      "[nan nan nan nan nan nan nan nan nan nan nan nan]\n",
      "4 2\n",
      "[nan nan nan nan nan nan nan nan nan nan nan nan]\n",
      "4 3\n",
      "[ nan  nan  nan  nan  nan  nan  nan  nan  nan 358. 358. 358.]\n",
      "Max number of unique values per unique lat/lon pair = 3\n"
     ]
    }
   ],
   "source": [
    "# count unique values per lat/lon pair \n",
    "max_length = 0\n",
    "for i in range(1,5):\n",
    "    for j in range(1,4):\n",
    "        print(i,j)\n",
    "        print(lon.where(ixy==i).where(jxy==j).values)\n",
    "        new_length = tsa.where(ixy==i).where(jxy==j).dropna(dim='pft').values.size\n",
    "        if new_length > max_length:\n",
    "            max_length = new_length\n",
    "\n",
    "print('Max number of unique values per unique lat/lon pair =',max_length)"
   ]
  },
  {
   "cell_type": "code",
   "execution_count": 8,
   "metadata": {},
   "outputs": [
    {
     "name": "stdout",
     "output_type": "stream",
     "text": [
      "1 1\n",
      "[ 3.  7. nan nan nan nan nan nan nan nan nan nan]\n",
      "1 2\n",
      "[nan nan nan nan nan nan nan nan nan nan nan nan]\n",
      "1 3\n",
      "[nan nan nan nan nan nan nan nan nan nan nan nan]\n",
      "2 1\n",
      "[nan nan nan nan nan nan nan nan nan nan nan nan]\n",
      "2 2\n",
      "[nan nan nan nan nan nan nan nan nan nan nan nan]\n",
      "2 3\n",
      "[nan nan nan nan nan nan nan nan nan nan nan nan]\n",
      "3 1\n",
      "[nan nan nan nan nan nan nan nan nan nan nan nan]\n",
      "3 2\n",
      "[nan nan nan nan nan nan nan nan nan nan nan nan]\n",
      "3 3\n",
      "[nan nan nan nan nan nan nan nan nan nan nan nan]\n",
      "4 1\n",
      "[nan nan nan nan nan nan nan nan nan nan nan nan]\n",
      "4 2\n",
      "[nan nan nan nan nan nan nan nan nan nan nan nan]\n",
      "4 3\n",
      "[nan nan nan nan nan nan nan nan nan nan nan nan]\n",
      "Max unique values per lat/lon pair = 2\n"
     ]
    }
   ],
   "source": [
    "# find max pft for each unique lat/lon/lunit combo\n",
    "max_length = 0\n",
    "tsa = tsa.where(itype_lunit==1) # only look at longitude values where the lunit type is 1 aka veg\n",
    "# ^ this is the first prerequisite \n",
    "\n",
    "# now loop through each latitude/longitude combo \n",
    "for i in range(1,5):\n",
    "    for j in range(1,4):\n",
    "        print(i,j)\n",
    "        print(tsa.where(ixy==i).where(jxy==j).values)\n",
    "        new_length = tsa.where(ixy==i).where(jxy==j).dropna(dim='pft').values.size\n",
    "        if new_length > max_length:\n",
    "            max_length = new_length\n",
    "\n",
    "print('Max unique values per lat/lon pair =', max_length)"
   ]
  },
  {
   "cell_type": "code",
   "execution_count": null,
   "metadata": {},
   "outputs": [],
   "source": [
    "# Game Plan \n",
    "# Go through and create list of tsa values for each unique lat/lon pair for the land unit of interest \n",
    "# Then initialize a cube with dimensions of lat x lon x max pft (for that land unit?)\n",
    "# Loop through the tsa list and fill in each value one by one into the previously created cube "
   ]
  },
  {
   "cell_type": "code",
   "execution_count": 4,
   "metadata": {},
   "outputs": [],
   "source": [
    "cube1 = np.full((4,3,3), float(\"NaN\"))"
   ]
  },
  {
   "cell_type": "code",
   "execution_count": 5,
   "metadata": {},
   "outputs": [],
   "source": [
    "import matplotlib.pyplot as plt"
   ]
  },
  {
   "cell_type": "code",
   "execution_count": null,
   "metadata": {},
   "outputs": [],
   "source": [
    "fig, axes = plt.subplots(figsize=(20,10))\n",
    "ax = plt.axes(projection=ccrs.PlateCarree()) \n",
    "ax.add_feature(cfeature.BORDERS, linestyle=':') \n",
    "ax.set_global()\n",
    "ax.coastlines()\n",
    "plt.tight_layout()\n",
    "\n",
    "tsa_grid_veg = np.nansum((np.multiply(tsa_cube_veg, tsa_wtlunit_cube_veg)), axis=2) # find weighted mean TSA for each grid cell by multiplying TSA cube and pft weight cube and summing by grid cell\n",
    "c = tsa_grid_veg - 273 # convert to Celsius \n",
    "np.save('tsa_grid_veg', tsa_grid_veg) \n",
    "\n",
    "plt.scatter(lon_grid, lat_grid, c=c, transform=ccrs.PlateCarree(), s=10, marker=\"s\") # create scatter plot with longtitude for the x dimension, latitude as the y dimension, and TSA as the z dimension\n",
    "\n",
    "plt.title(\"Vegetation Temperature - January 2015\", size=20);\n",
    "cbar = plt.colorbar(shrink=0.6) # create colorbar \n",
    "cbar.set_label('Temperature (C)    ', rotation=270)\n",
    "\n",
    "plt.savefig('Vegetation_Jan2015.jpg')"
   ]
  }
 ],
 "metadata": {
  "kernelspec": {
   "display_name": "Pangeo (Python 3.6)",
   "language": "python",
   "name": "pangeo-3.6"
  },
  "language_info": {
   "codemirror_mode": {
    "name": "ipython",
    "version": 3
   },
   "file_extension": ".py",
   "mimetype": "text/x-python",
   "name": "python",
   "nbconvert_exporter": "python",
   "pygments_lexer": "ipython3",
   "version": "3.6.7"
  }
 },
 "nbformat": 4,
 "nbformat_minor": 4
}
